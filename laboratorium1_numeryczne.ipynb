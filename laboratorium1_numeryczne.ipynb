{
  "nbformat": 4,
  "nbformat_minor": 0,
  "metadata": {
    "colab": {
      "provenance": []
    },
    "kernelspec": {
      "name": "python3",
      "display_name": "Python 3"
    },
    "language_info": {
      "name": "python"
    }
  },
  "cells": [
    {
      "cell_type": "code",
      "execution_count": null,
      "metadata": {
        "colab": {
          "base_uri": "https://localhost:8080/"
        },
        "id": "7cr2zARz3TCy",
        "outputId": "3a4b5c65-58ba-44b6-fc01-d1ea06b7d2d7"
      },
      "outputs": [
        {
          "output_type": "stream",
          "name": "stdout",
          "text": [
            "Okręgi Gerszgorina (środek, promień):\n",
            "Wiersz 1: Środek = 2, Promień = 9\n",
            "Wiersz 2: Środek = 6, Promień = 6\n",
            "Wiersz 3: Środek = 12, Promień = 14\n",
            "Wiersz 4: Środek = 1, Promień = 12\n"
          ]
        }
      ],
      "source": [
        "#Zadanie 1. Obliczanie Okręgów Gershgorina. Napisz funkcję do obliczania okręgów Gershgorina dla danej macierzy kwadratowej.\n",
        "import numpy as np\n",
        "\n",
        "\n",
        "def okregi_gerszgorina(macierz):\n",
        "  if not isinstance(macierz, np.ndarray):\n",
        "    print(\"Macierz powinna być tablicą numpy!\")\n",
        "\n",
        "  if macierz.shape[0] != macierz.shape[1]:\n",
        "    print(\"Macierz nie jest kwadratowa, a powinna! (nxn)\")\n",
        "\n",
        "  okregi = [] #definiujemy pustą listę, do której będą zapisywane krotki\n",
        "  for i in range(macierz.shape[0]):\n",
        "    srodek = macierz[i, i] #środki okręgów macierzy\n",
        "    promien = np.sum(np.abs(macierz[i, :])) - np.abs(srodek)\n",
        "\n",
        "    okregi.append((srodek, promien))\n",
        "\n",
        "  return okregi\n",
        "\n",
        "#sprawdzenie działania funkcji\n",
        "macierz = np.array([[2, -4, 3, 2],\n",
        "                    [1, 6, 4, 1],\n",
        "                    [2, 4, 12, 8],\n",
        "                    [-2, -7, 3, 1]])\n",
        "\n",
        "wynik = okregi_gerszgorina(macierz)\n",
        "print(\"Okręgi Gerszgorina (środek, promień):\")\n",
        "for i, (srodek, promien) in enumerate(wynik):\n",
        "    print(f\"Wiersz {i+1}: Środek = {srodek}, Promień = {promien}\")\n"
      ]
    },
    {
      "cell_type": "code",
      "source": [
        "#Zadanie 2. Metoda Iteracji Potęgowej. Zaimplementuj algorytm iteracji potęgowej do przybliżania dominującej wartości\n",
        "#własnej i odpowiadającego jej wektora własnego.\n",
        "\n",
        "import numpy as np\n",
        "\n",
        "def iteracja_potegowa(macierz, epsilon=1e-6, max_iter=1000):\n",
        "    if not isinstance(macierz, np.ndarray):\n",
        "        print(\"Macierz powinna być tablicą numpy (ndarray)!\")\n",
        "\n",
        "    if macierz.shape[0] != macierz.shape[1]:\n",
        "        print(\"Macierz musi być kwadratowa, a nie jest! Macierz kwadratowa to macierz o wymiarach (n x n).\")\n",
        "\n",
        "    n = macierz.shape[0]\n",
        "    wektor = np.random.rand(n)  #wybór losowego wektoru początkowego\n",
        "    wektor = wektor / np.linalg.norm(wektor)  #normalizacja wektora początkowego\n",
        "\n",
        "    lambda_stary = 0\n",
        "\n",
        "    for _ in range(max_iter):\n",
        "        nowy_wektor = np.dot(macierz, wektor)  #mnożenie macierzy przez wektor\n",
        "        lambda_nowy = np.max(np.abs(nowy_wektor))  #przybliżona dominująca wartość własna\n",
        "\n",
        "        nowy_wektor = nowy_wektor / lambda_nowy  #normalizacja wektora\n",
        "\n",
        "        if np.abs(lambda_nowy - lambda_stary) < epsilon:\n",
        "            break\n",
        "\n",
        "        wektor = nowy_wektor\n",
        "        lambda_stary = lambda_nowy\n",
        "\n",
        "    return lambda_nowy, wektor\n",
        "\n",
        "#sprawdzenie działania funkcji\n",
        "macierz = np.array([[2, -4, 3, 2],\n",
        "                    [1, 6, 4, 1],\n",
        "                    [2, 4, 12, 8],\n",
        "                    [-2, -7, 3, 1]])\n",
        "\n",
        "lambda_dominujace, wektor_wlasny = iteracja_potegowa(macierz)\n",
        "\n",
        "print(f\"Dominująca wartość własna to: {lambda_dominujace:.6f}\")\n",
        "print(f\"Odpowiadający wektor własny to: {wektor_wlasny}\")\n"
      ],
      "metadata": {
        "colab": {
          "base_uri": "https://localhost:8080/"
        },
        "id": "gC_ssKUYBaIv",
        "outputId": "41ec5323-61c2-4d14-f0df-0a0ed5fac377"
      },
      "execution_count": null,
      "outputs": [
        {
          "output_type": "stream",
          "name": "stdout",
          "text": [
            "Dominująca wartość własna to: 13.729344\n",
            "Odpowiadający wektor własny to: [ 0.06863735  0.51858898  1.         -0.06028579]\n"
          ]
        }
      ]
    },
    {
      "cell_type": "code",
      "source": [
        "#Zadanie 3. Metoda Iteracji Odwrotnej. Zaimplementuj algorytm iteracji odwrotnej do przybliżania wartości własnych bliskich określonej wartości.\n",
        "import numpy as np\n",
        "\n",
        "def iteracja_odwrotna(macierz, sigma = 0, epsilon=1e-6, max_iter = 1000):\n",
        "    if not isinstance(macierz, np.ndarray):\n",
        "        print(\"Macierz powinna być tablicą numpy (ndarray)!\")\n",
        "\n",
        "    if macierz.shape[0] != macierz.shape[1]:\n",
        "        print(\"Macierz musi być kwadratowa, a nie jest! Macierz kwadratowa to macierz o wymiarach (n x n).\")\n",
        "\n",
        "    n = macierz.shape[0]\n",
        "\n",
        "    #tworzenie macierzy przesuniętą A - sigma*I\n",
        "    A_sigma = macierz - sigma * np.eye(n)\n",
        "\n",
        "    wektor = np.random.rand(n)  #wybór losowego wektoru początkowego\n",
        "    wektor = wektor / np.linalg.norm(wektor)  #normalizacja wektora początkowego\n",
        "\n",
        "    lambda_stary = 0\n",
        "\n",
        "    for _ in range(max_iter):\n",
        "      nowy_wektor = (np.dot(macierz, wektor)) / wektor[0]\n",
        "      lambda_nowy = np.max(np.abs(nowy_wektor))  #przybliżona dominująca wartość własna\n",
        "      if np.abs(lambda_nowy - lambda_stary) < epsilon:\n",
        "            break\n",
        "      wektor = nowy_wektor\n",
        "      lambda_stary = lambda_nowy\n",
        "      return lambda_nowy, wektor\n",
        "\n",
        "#sprawdzenie działania funkcji\n",
        "macierz = np.array([[4, 1, 0],\n",
        "                    [0, 2, 1],\n",
        "                    [0, 0, -1]])\n",
        "\n",
        "lambda_dominujace, wektor_wlasny = iteracja_potegowa(macierz)\n",
        "\n",
        "print(f\"Dominująca wartość własna to: {lambda_dominujace:.6f}\")\n",
        "print(f\"Odpowiadający wektor własny to: {wektor_wlasny}\")"
      ],
      "metadata": {
        "colab": {
          "base_uri": "https://localhost:8080/"
        },
        "id": "jdLuFLl8Js74",
        "outputId": "31f47f54-fee4-435e-e5fc-51cebba6d362"
      },
      "execution_count": null,
      "outputs": [
        {
          "output_type": "stream",
          "name": "stdout",
          "text": [
            "Dominująca wartość własna to: 4.000001\n",
            "Odpowiadający wektor własny to: [1.00000000e+00 5.72542457e-07 6.37946592e-13]\n"
          ]
        }
      ]
    }
  ]
}