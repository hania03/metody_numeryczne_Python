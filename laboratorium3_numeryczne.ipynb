{
  "nbformat": 4,
  "nbformat_minor": 0,
  "metadata": {
    "colab": {
      "provenance": []
    },
    "kernelspec": {
      "name": "python3",
      "display_name": "Python 3"
    },
    "language_info": {
      "name": "python"
    }
  },
  "cells": [
    {
      "cell_type": "markdown",
      "source": [
        "#Zadanie 3\n",
        "*Implementacja metody QR do obliczania wartości własnych\n",
        "macierzy Hessenberga z przesunięciem*\n",
        "\n",
        "Napisano funkcję w Pythonie *eigenvalues_qr_hessenberg_shift(H, shift, tol, max_iter)*, która oblicza wszystkie wartości własne dolnej macierzy Hessenberga z przesunięciem.\n",
        "\n",
        "**input**: \\\n",
        "H: Dolna macierz Hessenberga (tablica NumPy 2D) \\\n",
        "shift: Przesunięcie (liczba zmiennoprzecinkowa) \\\n",
        "tol: Tolerancja zbieżności (liczba zmiennoprzecinkowa) \\\n",
        "max_iter: Maksymalna liczba iteracji (liczba całkowita)\n",
        "\n",
        "**output**: \\\n",
        "eigenvalues: Wartości własne macierzy (tablica NumPy 1D)"
      ],
      "metadata": {
        "id": "aRoe3QTEGNr2"
      }
    },
    {
      "cell_type": "markdown",
      "source": [
        "Najpierw zaimportowano niezbędną do obliczeń bibliotekę - *numpy*."
      ],
      "metadata": {
        "id": "goer6_fPHvZM"
      }
    },
    {
      "cell_type": "code",
      "execution_count": 9,
      "metadata": {
        "id": "3gggWk01EJE1"
      },
      "outputs": [],
      "source": [
        "import numpy as np"
      ]
    },
    {
      "cell_type": "markdown",
      "source": [
        "Następnie zdefiniowano funkcję *eigenvalues_qr_hessenberg_shift(H, shift, tol, max_iter)* służązą do obliczenia wszystkich wartości własnych macierzy Hessenberga z przesunięciem."
      ],
      "metadata": {
        "id": "P9TTOOtpIbO-"
      }
    },
    {
      "cell_type": "code",
      "source": [
        "def eigenvalues_qr_hessenberg_shift(H, shift, tol, max_iter):\n",
        "  H = H.copy()\n",
        "  n = H.shape[0]\n",
        "\n",
        "  for _ in range(max_iter):\n",
        "        # Przesunięcie macierzy\n",
        "        I = np.eye(n)\n",
        "        H_shifted = H - shift * I\n",
        "\n",
        "        # Dekompozycja QR\n",
        "        Q, R = np.linalg.qr(H_shifted)\n",
        "\n",
        "        # Aktualizacja macierzy H\n",
        "        H = R @ Q + shift * I\n",
        "\n",
        "        # Sprawdzamy zbieżność na podstawie elementów poddiagonalnych\n",
        "        off_diagonal = np.abs(np.diag(H, k=-1))\n",
        "        if np.all(off_diagonal < tol):\n",
        "            break\n",
        "\n",
        "  return np.diag(H)  # Wartości własne to elementy diagonalne macierzy H"
      ],
      "metadata": {
        "id": "ApPOOYH5Ix1h"
      },
      "execution_count": 10,
      "outputs": []
    },
    {
      "cell_type": "markdown",
      "source": [
        "* Linijka kodu *H = H.copy()* tworzy kopię, aby nie modyfikować oryginalnej macierzy niezbędnej do obliczeń.\n",
        "* Dalej zrobiono przesunięcie macierzy\n",
        "* Po tym zrobiono dekompozycję QR\n",
        "* Zaktualizowano stan macierzy H\n",
        "* Sprawdzono zbieżność na podstawie elementów poddiagonalnych\n",
        "\n",
        "Funkcja zwraca *np.diag(H)*, co faktycznie jest wartościami własnymi macierzy. Ale wynik nadal nie jest wyświetlany na ekranie, dlatego trzeba użyć tej funkcji."
      ],
      "metadata": {
        "id": "miZc7JCGJXDD"
      }
    },
    {
      "cell_type": "markdown",
      "source": [
        "Najpierw stworzono *przykładową macierz Hessenberga*:"
      ],
      "metadata": {
        "id": "ftU3_NfHKmjS"
      }
    },
    {
      "cell_type": "code",
      "source": [
        "H = np.array([\n",
        "    [4, 3, 0],\n",
        "    [2, 5, 1],\n",
        "    [0, 2, 6]\n",
        "], dtype=float)"
      ],
      "metadata": {
        "id": "-pEyrGQxKcEf"
      },
      "execution_count": 11,
      "outputs": []
    },
    {
      "cell_type": "markdown",
      "source": [
        "Następnie sdefiniowano *shift* (przesunięcie), *tol* (tolerancję zbieżności) oraz *max_iter* (maksymalną liczbę iteracji)."
      ],
      "metadata": {
        "id": "0njtz6KJKwnF"
      }
    },
    {
      "cell_type": "code",
      "source": [
        "shift = 0.1\n",
        "tol = 1e-6\n",
        "max_iter = 1000"
      ],
      "metadata": {
        "id": "yO_4sPnbLKhH"
      },
      "execution_count": 12,
      "outputs": []
    },
    {
      "cell_type": "markdown",
      "source": [
        "Następnie obliczono wartości własne macierzy Hessenberga przy użyciu funkcji *eigenvalues_qr_hessenberg_shift*:"
      ],
      "metadata": {
        "id": "os6CGHTuLT7u"
      }
    },
    {
      "cell_type": "code",
      "source": [
        "eigenvalues = eigenvalues_qr_hessenberg_shift(H, shift, tol, max_iter)\n",
        "print(\"Wartości własne macierzy H:\")\n",
        "print(eigenvalues)"
      ],
      "metadata": {
        "colab": {
          "base_uri": "https://localhost:8080/"
        },
        "id": "juvn3EHlLi-w",
        "outputId": "4b799754-ca3f-4e78-d5d9-63d9c86e356d"
      },
      "execution_count": 13,
      "outputs": [
        {
          "output_type": "stream",
          "name": "stdout",
          "text": [
            "Wartości własne macierzy H:\n",
            "[7.74656844 5.4549039  1.79852766]\n"
          ]
        }
      ]
    },
    {
      "cell_type": "markdown",
      "source": [
        "# Zadanie 4\n",
        "*Metoda QR z przekształceniem Householdera -\n",
        "implementacja podstawowa*\n",
        "\n",
        "Napisano funkcję w Pythonie, która przyjmuje macierz kwadratową i zwraca wartości własne tej macierzy przy użyciu metody QR z przekształceniem Householdera."
      ],
      "metadata": {
        "id": "IkrrcpDfLsvu"
      }
    },
    {
      "cell_type": "markdown",
      "source": [
        "Najpierw zaimplementowano funkcję *householder_transform(matrix)*, która przekształca macierz kwadratową matrix do postaci trójkątnej za pomocą przekształcenia Householdera."
      ],
      "metadata": {
        "id": "RitxNo_YMRmT"
      }
    },
    {
      "cell_type": "code",
      "source": [
        "import numpy as np\n",
        "\n",
        "def householder_transform(matrix):\n",
        "    A = matrix.copy()\n",
        "    n = A.shape[0]\n",
        "\n",
        "    for k in range(n - 1):\n",
        "        # Wektor kolumnowy\n",
        "        x = A[k:, k]\n",
        "        e1 = np.zeros_like(x)\n",
        "        e1[0] = np.linalg.norm(x) * np.sign(x[0])\n",
        "\n",
        "        # Wektor Householdera\n",
        "        v = x + e1\n",
        "        v = v / np.linalg.norm(v)\n",
        "\n",
        "        # Macierz Householdera\n",
        "        Hk = np.eye(n)\n",
        "        Hk[k:, k:] -= 2.0 * np.outer(v, v)\n",
        "\n",
        "        # Przekształcenie macierzy\n",
        "        A = Hk @ A @ Hk.T\n",
        "\n",
        "    return A\n"
      ],
      "metadata": {
        "id": "c6RoXaXWMg1E"
      },
      "execution_count": 14,
      "outputs": []
    },
    {
      "cell_type": "markdown",
      "source": [
        "1. Ta funkcja najpierw **kopiuje macierz wejściową**, żeby nie modyfikować danych w macierzy oryginalnej\n",
        "2. Iteruje po *kolumnach* macierzy:\n",
        "  * pobiera **wektor kolumnowy** (który zaczyna się od aktualnego wiersza)\n",
        "  * tworzy **wektor jednostkowy**, którego norma odpowiada normie wektora kolumnowego\n",
        "  * wyznacza **wektor Householdera**, który pozwala 'zerować' wartości poniżej diagonalnej\n",
        "  * tworzy **macierz Householdera** i stoduje ją do macierzy, żeby stopniowo redukować ją do formy trójkątnej\n",
        "3. Zwraca **macierz w postaci górnej trójkątnej**, co ułatwia obliczenie wartości własnych.\n",
        "\n",
        "Przekształcenie Householdera **pozwala na stabilne przekształcenie macierzy** do postaci łatwiejszej do dalszej analizy.\n",
        "Redukcja do postaci trójkątnej przyspiesza iteracyjny proces QR.\n"
      ],
      "metadata": {
        "id": "HTXzMmR-MwT9"
      }
    },
    {
      "cell_type": "markdown",
      "source": [
        "Następnie stworzono funkcję *qr_algorithm(matrix, iterations)*, która używa przekształcenia Householdera do redukcji macierzy do postaci trójkątnej, a następnie stosuje iteracyjny proces QR:"
      ],
      "metadata": {
        "id": "3snPgV9UOMB5"
      }
    },
    {
      "cell_type": "code",
      "source": [
        "def qr_algorithm(matrix, iterations=1000, tol=1e-10):\n",
        "    A = householder_transform(matrix)  # Redukcja do macierzy trójkątnej\n",
        "    n = A.shape[0]\n",
        "\n",
        "    for _ in range(iterations):\n",
        "        Q, R = np.linalg.qr(A)  # Rozkład QR\n",
        "        A = R @ Q  # Nowa macierz\n",
        "\n",
        "        # Sprawdzamy zbieżność\n",
        "        if np.all(np.abs(A[np.tril_indices(n, -1)]) < tol):\n",
        "            break\n",
        "\n",
        "    return np.diag(A)  # Wartości własne to elementy diagonalne macierzy A\n"
      ],
      "metadata": {
        "id": "np6RXL6-OSmc"
      },
      "execution_count": 15,
      "outputs": []
    },
    {
      "cell_type": "markdown",
      "source": [
        "Algorytm ten:\n",
        "1. **Redukuje macierz** do postaci trójkątnej przy pomocy *householder_transform(matrix)*\n",
        "2. Iteracyjnie wykonuje **dekompozycję QR**:\n",
        "  * dekomponuje A na iloczyn ortogonalnej macierzy Q i macierzy trójkątnej R\n",
        "  * mnoży R @ Q, aby utworzyć nową macierz A w kolejnej iteracji\n",
        "3. Sprawdza **zbieżność**:\n",
        "  * jeśli wartości poniżej głównej przekątnej macierzy są bliskie zera (mniejsze niż tolerancja *tol*), kończy iteracje.\n",
        "  * jeśli osiągnięto maksymalną liczbę iteracji, kończy algorytm\n",
        "4. Zwraca wartości własne jako elementy diagonalne macierzy A.\n",
        "\n",
        "Iteracyjny proces QR stopniowo przekształca macierz tak, że jej wartości własne pojawiają się na przekątnej.\n",
        "Jest to **stabilna i efektywna metoda** znajdowania wartości własnych, szczególnie dla dużych macierzy."
      ],
      "metadata": {
        "id": "jKzsXhG3OdIZ"
      }
    },
    {
      "cell_type": "markdown",
      "source": [
        "Przykładowe użycie tego algorytmu:"
      ],
      "metadata": {
        "id": "bpvwogt1P4Q2"
      }
    },
    {
      "cell_type": "code",
      "source": [
        "# Przykładowa macierz kwadratowa\n",
        "A = np.array([\n",
        "    [4, 1, -2],\n",
        "    [1, 3, 0],\n",
        "    [-2, 0, 2]\n",
        "], dtype=float)\n",
        "\n",
        "# Obliczanie wartości własnych\n",
        "eigenvalues = qr_algorithm(A)\n",
        "print(\"Wartości własne macierzy A:\", eigenvalues)\n"
      ],
      "metadata": {
        "colab": {
          "base_uri": "https://localhost:8080/"
        },
        "id": "8leo_1M1P0f8",
        "outputId": "8ad84204-2622-4c94-9b25-72ac86911d98"
      },
      "execution_count": 16,
      "outputs": [
        {
          "output_type": "stream",
          "name": "stdout",
          "text": [
            "Wartości własne macierzy A: [5.52891796 2.83255081 0.63853123]\n"
          ]
        }
      ]
    },
    {
      "cell_type": "markdown",
      "source": [
        "# Zadanie 5\n",
        "*Metoda QR z przekształceniem Householdera - zastosowanie dla macierzy rzeczywistych*\n",
        "\n",
        "Stworzono funkcję, która przyjmuje macierz rzeczywistą i wylicza wartości własne oraz wektory własne tej macierzy przy użyciu metody QR z przekształceniem Householdera."
      ],
      "metadata": {
        "id": "8DuNYMHVQDzo"
      }
    },
    {
      "cell_type": "code",
      "source": [
        "import numpy as np\n",
        "\n",
        "def householder_transform(matrix):\n",
        "    n = matrix.shape[0]\n",
        "    Q = np.eye(n)\n",
        "    R = matrix.copy()\n",
        "\n",
        "    for i in range(n - 1):\n",
        "        # Wektor kolumnowy do wyzerowania poniżej diagonalnej\n",
        "        x = R[i:, i]\n",
        "        e = np.zeros_like(x)\n",
        "        e[0] = np.linalg.norm(x) * (-1 if x[0] < 0 else 1)\n",
        "\n",
        "        # Wektor Householdera\n",
        "        v = x + e\n",
        "        v = v / np.linalg.norm(v)\n",
        "\n",
        "        # Macierz Householdera\n",
        "        H = np.eye(n)\n",
        "        H[i:, i:] -= 2.0 * np.outer(v, v)\n",
        "\n",
        "        # Aktualizacja macierzy R i Q\n",
        "        R = H @ R\n",
        "        Q = Q @ H.T\n",
        "\n",
        "    return Q, R"
      ],
      "metadata": {
        "id": "CUnv-by6Qnp6"
      },
      "execution_count": 17,
      "outputs": []
    },
    {
      "cell_type": "markdown",
      "source": [
        "Funkcja *householder_transform(matrix)*:\n",
        "1. **Tworzy macierz jednostkową** Q oraz **kopię** R = matrix (będą modyfikowane).\n",
        "2. **Iteracyjnie zeruje wartości poniżej diagonali** w kolumnach, korzystając z:\n",
        "  * wektora Householdera v\n",
        "  * macierzy Householdera H\n",
        "3. **Zwraca macierze** R i Q po transformacji"
      ],
      "metadata": {
        "id": "Niu-aT-7QtSl"
      }
    },
    {
      "cell_type": "code",
      "source": [
        "def qr_algorithm(matrix, iterations=1000, tol=1e-10):\n",
        "    n = matrix.shape[0]\n",
        "    A = matrix.copy()\n",
        "    Q_total = np.eye(n)\n",
        "\n",
        "    for _ in range(iterations):\n",
        "        Q, R = householder_transform(A)\n",
        "        A = R @ Q  # Nowa macierz A\n",
        "        Q_total = Q_total @ Q  # Akumulacja transformacji Q\n",
        "\n",
        "        # Sprawdzanie zbieżności\n",
        "        if np.allclose(A - np.diag(np.diagonal(A)), 0, atol=tol):\n",
        "            break\n",
        "\n",
        "    eigenvalues = np.diagonal(A)  # Wartości własne = elementy diagonalne macierzy A\n",
        "    eigenvectors = Q_total  # Wektory własne = kolumny macierzy Q\n",
        "\n",
        "    return eigenvalues, eigenvectors\n"
      ],
      "metadata": {
        "id": "M6HAmiTpRWoI"
      },
      "execution_count": 18,
      "outputs": []
    },
    {
      "cell_type": "markdown",
      "source": [
        "Funkcja *qr_algorithm(matrix, iterations = 1000, tol = 1e-10)*:\n",
        "1. Tworzy kopię macierzy A i inicjalizuje macierz Q_total jako jednostkową.\n",
        "2. Iteracyjnie:\n",
        "  * stosuje **dekompozycję QR**\n",
        "  * Oblicza nową macierz A = R @ Q (zbliżającą się do macierzy diagonalnej).\n",
        "  * Mnoży Q_total = Q_total @ Q, aby zapamiętać transformacje wektorów własnych.\n",
        "3. **Kryterium stopu**: jeśli wartości poniżej diagonalnej są bliskie 0 (według tol), kończy iteracje.\n",
        "4. **Zwraca wartości własne** (diagonalne elementy A) oraz wektory własne (Q_total)."
      ],
      "metadata": {
        "id": "vk2ShfXYRYMa"
      }
    },
    {
      "cell_type": "markdown",
      "source": [
        "Przykład użycia algorytmu umieszczono poniżej:"
      ],
      "metadata": {
        "id": "ilgCJYx5SHjG"
      }
    },
    {
      "cell_type": "code",
      "source": [
        "A = np.array([[4, -2, 1],\n",
        "              [-2, 4, -2],\n",
        "              [1, -2, 3]], dtype=float)\n",
        "\n",
        "eigenvalues, eigenvectors = qr_algorithm(A)\n",
        "\n",
        "print(\"Wartości własne danej macierzy:\")\n",
        "print(eigenvalues)\n",
        "print(\"\\nWektory własne danej macierzy:\")\n",
        "print(eigenvectors)"
      ],
      "metadata": {
        "colab": {
          "base_uri": "https://localhost:8080/"
        },
        "id": "pOz5ABAfSCtO",
        "outputId": "8b0ffc2a-522c-40d0-83ce-1b231e95b782"
      },
      "execution_count": 19,
      "outputs": [
        {
          "output_type": "stream",
          "name": "stdout",
          "text": [
            "Wartości własne danej macierzy:\n",
            "[7.11902668 2.56837289 1.31260044]\n",
            "\n",
            "Wektory własne danej macierzy:\n",
            "[[-0.57864919 -0.76930576  0.27080208]\n",
            " [ 0.66960599 -0.25857088  0.69625349]\n",
            " [-0.46561028  0.58421721  0.66475357]]\n"
          ]
        }
      ]
    },
    {
      "cell_type": "markdown",
      "source": [
        "# Zadanie 6\n",
        "*Implementacja Rozkładu QR*\n",
        "\n",
        "Napisano funkcję w Pythonie, która wykonuje rozkład QR danej macierzy przy użyciu transformacji Householdera. Funkcja przyjmuje jako wejście macierz kwadratową i zwraca macierze ortogonalną Q oraz górną trójkątną R."
      ],
      "metadata": {
        "id": "IZJ9ON1-STVh"
      }
    },
    {
      "cell_type": "markdown",
      "source": [
        "Funkcja *qr_decomposition_householder(matrix)*:\n",
        "1. **Sprawdza poprawność danych wejściowych** (czyli, czy macierz jest kwadratowa)\n",
        "2. **Inicjalizuje macierz jednostkową Q oraz kopię R** macierzy wejściowej\n",
        "3. **Iteracyjnie zeruje wartości poniżej diagonali**, stosując:\n",
        "  * Obliczenie wektora Householdera v\n",
        "  * Tworzenie macierzy Householdera H\n",
        "  * Aktualizację macierzy R = HR oraz Q = QH^T\n",
        "4. **Zwraca macierze** R i Q"
      ],
      "metadata": {
        "id": "7WqjHwdgS8wk"
      }
    },
    {
      "cell_type": "code",
      "source": [
        "import numpy as np\n",
        "\n",
        "def qr_decomposition_householder(matrix):\n",
        "    # Sprawdzenie, czy macierz jest kwadratowa\n",
        "    m, n = matrix.shape\n",
        "    if m != n:\n",
        "        raise ValueError(\"Macierz musi być kwadratowa!\")\n",
        "\n",
        "    # Inicjalizacja macierzy Q jako jednostkowej oraz R jako kopii A\n",
        "    Q = np.eye(n)\n",
        "    R = matrix.copy()\n",
        "\n",
        "    for i in range(n - 1):\n",
        "        # Tworzymy wektor Householdera\n",
        "        x = R[i:, i]\n",
        "        e = np.zeros_like(x)\n",
        "        e[0] = np.linalg.norm(x) * (-1 if x[0] < 0 else 1)\n",
        "\n",
        "        v = x + e\n",
        "        v = v / np.linalg.norm(v)\n",
        "\n",
        "        # Tworzenie macierzy Householdera\n",
        "        H = np.eye(n)\n",
        "        H[i:, i:] -= 2.0 * np.outer(v, v)\n",
        "\n",
        "        # Aktualizacja macierzy R i Q\n",
        "        R = H @ R\n",
        "        Q = Q @ H.T  # Transpozycja H dla poprawnego przemnożenia\n",
        "\n",
        "    return Q, R"
      ],
      "metadata": {
        "id": "daVI693fTsxc"
      },
      "execution_count": 20,
      "outputs": []
    },
    {
      "cell_type": "markdown",
      "source": [
        "Przykładowe użycie funkcji *qr_decomposition_householder(matrix)*:"
      ],
      "metadata": {
        "id": "AVWy5GnkTzlF"
      }
    },
    {
      "cell_type": "code",
      "source": [
        "A = np.array([[4, -2, 1],\n",
        "              [-2, 4, -2],\n",
        "              [1, -2, 3]], dtype=float)\n",
        "\n",
        "Q, R = qr_decomposition_householder(A)\n",
        "\n",
        "print(\"Macierz Q (ortogonalna):\")\n",
        "print(Q)\n",
        "\n",
        "print(\"\\nMacierz R (górna trójkątna):\")\n",
        "print(R)\n",
        "\n",
        "# Sprawdzenie poprawności: A = Q @ R\n",
        "print(\"\\nCzy Q * R daje oryginalną macierz A? (true - tak, false - nie)\")\n",
        "print(np.allclose(Q @ R, A))"
      ],
      "metadata": {
        "colab": {
          "base_uri": "https://localhost:8080/"
        },
        "id": "ssXmwpORUDCK",
        "outputId": "908cb4cf-9327-430b-8425-64dd4c50c726"
      },
      "execution_count": 22,
      "outputs": [
        {
          "output_type": "stream",
          "name": "stdout",
          "text": [
            "Macierz Q (ortogonalna):\n",
            "[[-8.72871561e-01 -4.87950036e-01 -8.97536079e-18]\n",
            " [ 4.36435780e-01 -7.80720058e-01  4.47213595e-01]\n",
            " [-2.18217890e-01  3.90360029e-01  8.94427191e-01]]\n",
            "\n",
            "Macierz R (górna trójkątna):\n",
            "[[-4.58257569e+00  3.92792202e+00 -2.40039679e+00]\n",
            " [-1.86190061e-16 -2.92770022e+00  2.24457017e+00]\n",
            " [-3.10316769e-17 -1.59224180e-17  1.78885438e+00]]\n",
            "\n",
            "Czy Q * R daje oryginalną macierz A? (true - tak, false - nie)\n",
            "True\n"
          ]
        }
      ]
    },
    {
      "cell_type": "markdown",
      "source": [
        "# Zadanie 7\n",
        "*Implementacja Algorytmu QR do Obliczania Wartości Własnych*\n",
        "\n",
        "Napisano funkcję w Pythonie, która iteracyjnie stosuje rozkład QR w celu znalezienia wartości własnych danej macierzy. Użyto algorytmu QR do aktualizacji macierzy do momentu zbieżności."
      ],
      "metadata": {
        "id": "F1H0VaJbUS0V"
      }
    },
    {
      "cell_type": "markdown",
      "source": [
        "Funkcja *qr_algorithm_eigenvalues(matrix, tol=1e-9, max_iter=1000)*:\n",
        "1. **Sprawdza poprawność danych wejściowych**\n",
        "2. **Iteracyjnie wykonuje rozkład QR** i aktualizuje macierz\n",
        "3. **Monitoruje zbieżność** poprzez sprawdzanie normy elementów poza diagonalą\n",
        "4. **Zwraca wartości własne** jako przekątną macierzy końcowej"
      ],
      "metadata": {
        "id": "K6BXP1IlUju2"
      }
    },
    {
      "cell_type": "code",
      "source": [
        "import numpy as np\n",
        "\n",
        "def qr_algorithm_eigenvalues(matrix, tol=1e-9, max_iter=1000):\n",
        "    # Sprawdzenie, czy macierz jest kwadratowa\n",
        "    n, m = matrix.shape\n",
        "    if n != m:\n",
        "        raise ValueError(\"Macierz musi być kwadratowa!\")\n",
        "\n",
        "    # Kopia macierzy wejściowej do modyfikacji\n",
        "    A = matrix.copy()\n",
        "\n",
        "    for i in range(max_iter):\n",
        "        # Rozkład QR\n",
        "        Q, R = np.linalg.qr(A)\n",
        "\n",
        "        # Aktualizacja macierzy\n",
        "        A = R @ Q\n",
        "\n",
        "        # Sprawdzenie warunku zbieżności (norma elementów poza diagonalą)\n",
        "        off_diag_norm = np.sqrt(np.sum(np.tril(A, k=-1)**2))\n",
        "        if off_diag_norm < tol:\n",
        "            break\n",
        "\n",
        "    # Wartości własne to przekątna macierzy A\n",
        "    eigenvalues = np.diag(A)\n",
        "    return eigenvalues"
      ],
      "metadata": {
        "id": "6R1sj7LXU4th"
      },
      "execution_count": 23,
      "outputs": []
    },
    {
      "cell_type": "markdown",
      "source": [
        "Przykładowe użycie tego algorytmu przedstawiono poniżej:"
      ],
      "metadata": {
        "id": "F5e5kKsJU74Y"
      }
    },
    {
      "cell_type": "code",
      "source": [
        "A = np.array([[4, -2, 1],\n",
        "              [-2, 4, -2],\n",
        "              [1, -2, 3]], dtype=float)\n",
        "\n",
        "eigenvalues = qr_algorithm_eigenvalues(A)\n",
        "\n",
        "print(\"Wartości własne macierzy:\")\n",
        "print(eigenvalues)"
      ],
      "metadata": {
        "colab": {
          "base_uri": "https://localhost:8080/"
        },
        "id": "terg7wRgU_px",
        "outputId": "229097aa-efc6-4fb4-d01b-dd3358ac9907"
      },
      "execution_count": 24,
      "outputs": [
        {
          "output_type": "stream",
          "name": "stdout",
          "text": [
            "Wartości własne macierzy:\n",
            "[7.11902668 2.56837289 1.31260044]\n"
          ]
        }
      ]
    },
    {
      "cell_type": "markdown",
      "source": [
        "# Zadanie 8\n",
        "*Zastosowanie Algorytmu QR do Znalezienia Wartości Własnych*\n",
        "\n",
        "Wykorzystano funkcje zaimplementowane w zadaniach 6 i 7, aby znaleźć wartości własne konkretnej macierzy. Przetestowano swoją implementację na macierzach różnych rozmiarów i właściwości."
      ],
      "metadata": {
        "id": "FDmnfeDbVFK6"
      }
    },
    {
      "cell_type": "markdown",
      "source": [
        "Funkcja *householder_qr_decomposition(A)*:\n",
        "1. Tworzy **macierz ortogonalną Q i górną trójkątną R**\n",
        "2. Używa **wektorów Householdera** do stopniowej redukcji macierzy\n",
        "3. **Optymalizuje operacje** dla wydajności"
      ],
      "metadata": {
        "id": "7ejXty7PVhTF"
      }
    },
    {
      "cell_type": "code",
      "source": [
        "import numpy as np\n",
        "\n",
        "def householder_qr_decomposition(A):\n",
        "    n = A.shape[0]\n",
        "    Q = np.eye(n)  # Macierz jednostkowa\n",
        "    R = A.copy()\n",
        "\n",
        "    for i in range(n - 1):\n",
        "        # Tworzenie wektora Householdera\n",
        "        x = R[i:, i]\n",
        "        e = np.zeros_like(x)\n",
        "        e[0] = np.linalg.norm(x)\n",
        "        v = x + np.sign(x[0]) * e\n",
        "        v = v / np.linalg.norm(v)\n",
        "\n",
        "        # Tworzenie macierzy Householdera\n",
        "        H = np.eye(n)\n",
        "        H[i:, i:] -= 2.0 * np.outer(v, v)\n",
        "\n",
        "        # Aktualizacja macierzy R i Q\n",
        "        R = H @ R\n",
        "        Q = Q @ H.T\n",
        "\n",
        "    return Q, R"
      ],
      "metadata": {
        "id": "8Gis5zRAVxSi"
      },
      "execution_count": 25,
      "outputs": []
    },
    {
      "cell_type": "markdown",
      "source": [
        "Funkcja *qr_algorithm_eigenvalues(A, tol=1e-9, max_iter=1000)*:\n",
        "1. Używa **Householdera** do redukcji macierzy do postaci *Hessenberga*\n",
        "2. Iteracyjnie stosuje **rozklad QR**\n",
        "3. Monitoruje **zbieżność**"
      ],
      "metadata": {
        "id": "pOc4Ch8uV0HQ"
      }
    },
    {
      "cell_type": "code",
      "source": [
        "def qr_algorithm_eigenvalues(A, tol=1e-9, max_iter=1000):\n",
        "    n, m = A.shape\n",
        "    if n != m:\n",
        "        raise ValueError(\"Macierz musi być kwadratowa!\")\n",
        "\n",
        "    A = A.copy()\n",
        "\n",
        "    for i in range(max_iter):\n",
        "        Q, R = householder_qr_decomposition(A)\n",
        "        A = R @ Q\n",
        "\n",
        "        # Sprawdzenie warunku zbieżności (elementy poza diagonalą)\n",
        "        off_diag_norm = np.sqrt(np.sum(np.tril(A, k=-1)**2))\n",
        "        if off_diag_norm < tol:\n",
        "            break\n",
        "\n",
        "    return np.diag(A)"
      ],
      "metadata": {
        "id": "qrtQ0bK9WDT4"
      },
      "execution_count": 26,
      "outputs": []
    },
    {
      "cell_type": "markdown",
      "source": [
        "####Testowanie implementacji dla macierzy 2x2 ze znanymi wartościami własnymi:\n",
        "Rozpoczęto od prostej macierzy, której wartości własne są łatwe do obliczenia ręcznie.\n",
        "W tym przypadku to 3 i 1."
      ],
      "metadata": {
        "id": "bv-Mbgq4WiGp"
      }
    },
    {
      "cell_type": "code",
      "source": [
        "A = np.array([[2, 1],\n",
        "              [1, 2]], dtype=float)\n",
        "\n",
        "eigenvalues = qr_algorithm_eigenvalues(A)\n",
        "print(\"Wartości własne macierzy 2x2:\")\n",
        "print(eigenvalues)\n",
        "\n",
        "# Sprawdzenie poprawności\n",
        "expected = np.array([3, 1])\n",
        "assert np.allclose(np.sort(eigenvalues), np.sort(expected), atol=1e-6), \"Błąd w teście 2x2\"\n",
        "print(\"Test 2x2 zaliczony!\")"
      ],
      "metadata": {
        "colab": {
          "base_uri": "https://localhost:8080/"
        },
        "id": "_nw6VIZvW7df",
        "outputId": "3a0fa076-fd1b-4457-e089-193890c9f358"
      },
      "execution_count": 27,
      "outputs": [
        {
          "output_type": "stream",
          "name": "stdout",
          "text": [
            "Wartości własne macierzy 2x2:\n",
            "[3. 1.]\n",
            "Test 2x2 zaliczony!\n"
          ]
        }
      ]
    },
    {
      "cell_type": "markdown",
      "source": [
        "####Testowanie implementacji dla macierzy 3x3:\n",
        "Zastosowano algorytm QR do wyznaczenia wartości własnych macierzy symetrycznej:"
      ],
      "metadata": {
        "id": "F8KL13gSWJ-_"
      }
    },
    {
      "cell_type": "code",
      "source": [
        "A = np.array([[4, -2, 1],\n",
        "              [-2, 4, -2],\n",
        "              [1, -2, 3]], dtype=float)\n",
        "\n",
        "eigenvalues = qr_algorithm_eigenvalues(A)\n",
        "print(\"Wartości własne macierzy 3x3:\")\n",
        "print(eigenvalues)\n",
        "\n",
        "# Sprawdzenie poprawności\n",
        "expected = np.array([7.11902668, 2.56837289, 1.31260044])\n",
        "assert np.allclose(np.sort(eigenvalues), np.sort(expected), atol=1e-3), \"Błąd w teście 3x3\"\n",
        "print(\"Test 3x3 zaliczony!\")"
      ],
      "metadata": {
        "colab": {
          "base_uri": "https://localhost:8080/"
        },
        "id": "CPh3CAXJWWW4",
        "outputId": "fb4834f2-3719-45f4-e2db-88a79988cb14"
      },
      "execution_count": 33,
      "outputs": [
        {
          "output_type": "stream",
          "name": "stdout",
          "text": [
            "Wartości własne macierzy 3x3:\n",
            "[7.11902668 2.56837289 1.31260044]\n",
            "Test 3x3 zaliczony!\n"
          ]
        }
      ]
    },
    {
      "cell_type": "markdown",
      "source": [
        "####Testowanie implementacji dla macierzy 4x4 diagonalnej\n",
        "Dla macierzy diagonalnej wartości własne to po prostu elementy na diagonalnej.\n",
        "W tym przypadku to 10, -3, 7 i 2."
      ],
      "metadata": {
        "id": "HR6nAoNrXL3B"
      }
    },
    {
      "cell_type": "code",
      "source": [
        "A = np.array([[10, 0, 0, 0],\n",
        "              [0, -3, 0, 0],\n",
        "              [0, 0, 7, 0],\n",
        "              [0, 0, 0, 2]], dtype=float)\n",
        "\n",
        "eigenvalues = qr_algorithm_eigenvalues(A)\n",
        "print(\"Wartości własne macierzy 4x4:\")\n",
        "print(eigenvalues)\n",
        "\n",
        "# Sprawdzenie poprawności\n",
        "expected = np.array([10, -3, 7, 2])\n",
        "assert np.allclose(np.sort(eigenvalues), np.sort(expected), atol=1e-6), \"Błąd w teście 4x4\"\n",
        "print(\"Test 4x4 zaliczony!\")"
      ],
      "metadata": {
        "colab": {
          "base_uri": "https://localhost:8080/"
        },
        "id": "g73J29O1XX_1",
        "outputId": "edee529a-426a-4155-fdc0-bf7f57ff59ad"
      },
      "execution_count": 29,
      "outputs": [
        {
          "output_type": "stream",
          "name": "stdout",
          "text": [
            "Wartości własne macierzy 4x4:\n",
            "[10. -3.  7.  2.]\n",
            "Test 4x4 zaliczony!\n"
          ]
        }
      ]
    },
    {
      "cell_type": "markdown",
      "source": [
        "####Testowanie implementacji dla losowej macierzy 5x5\n"
      ],
      "metadata": {
        "id": "LrUif7SxXcxR"
      }
    },
    {
      "cell_type": "code",
      "source": [
        "A = np.random.rand(5, 5) * 10  # Losowa macierz 5x5\n",
        "\n",
        "eigenvalues = qr_algorithm_eigenvalues(A)\n",
        "expected = np.linalg.eigvals(A)  # Wartości własne z NumPy\n",
        "\n",
        "print(\"Wartości własne macierzy 5x5:\")\n",
        "print(eigenvalues)\n",
        "\n",
        "# Sprawdzenie poprawności względem numpy.linalg.eigvals\n",
        "assert np.allclose(np.sort(eigenvalues), np.sort(expected), atol=1e-3), \"Błąd w teście 5x5\"\n",
        "print(\"Test 5x5 zaliczony!\")"
      ],
      "metadata": {
        "colab": {
          "base_uri": "https://localhost:8080/"
        },
        "id": "F0L5UkzbXl4V",
        "outputId": "60e2a9ee-2030-4213-d9c7-3a10107245a5"
      },
      "execution_count": 30,
      "outputs": [
        {
          "output_type": "stream",
          "name": "stdout",
          "text": [
            "Wartości własne macierzy 5x5:\n",
            "[25.91075237  7.83083278  3.11966105  1.99458891  0.04599386]\n",
            "Test 5x5 zaliczony!\n"
          ]
        }
      ]
    },
    {
      "cell_type": "markdown",
      "source": [
        "####Zwizualizowanie zbieżności algorytmu QR\n",
        "Śledzi się normę elementów poza diagonalą w każdej iteracji."
      ],
      "metadata": {
        "id": "EgLwKNT4Xwsh"
      }
    },
    {
      "cell_type": "code",
      "source": [
        "import matplotlib.pyplot as plt\n",
        "\n",
        "def qr_convergence_plot(A, tol=1e-9, max_iter=1000):\n",
        "    norms = []\n",
        "    A = A.copy()\n",
        "\n",
        "    for i in range(max_iter):\n",
        "        Q, R = householder_qr_decomposition(A)\n",
        "        A = R @ Q\n",
        "\n",
        "        off_diag_norm = np.sqrt(np.sum(np.tril(A, k=-1)**2))\n",
        "        norms.append(off_diag_norm)\n",
        "\n",
        "        if off_diag_norm < tol:\n",
        "            break\n",
        "\n",
        "    plt.plot(norms, label=\"Norma elementów poza diagonalą\")\n",
        "    plt.yscale(\"log\")\n",
        "    plt.xlabel(\"Iteracja\")\n",
        "    plt.ylabel(\"Norma\")\n",
        "    plt.title(\"Zbieżność algorytmu QR\")\n",
        "    plt.legend()\n",
        "    plt.show()\n",
        "\n",
        "qr_convergence_plot(A)"
      ],
      "metadata": {
        "colab": {
          "base_uri": "https://localhost:8080/",
          "height": 472
        },
        "id": "umwXaCNgX3X6",
        "outputId": "834c7a6c-8bd6-4883-f1f2-a2565da7d939"
      },
      "execution_count": 31,
      "outputs": [
        {
          "output_type": "display_data",
          "data": {
            "text/plain": [
              "<Figure size 640x480 with 1 Axes>"
            ],
            "image/png": "[encoded data removed]"
          },
          "metadata": {}
        }
      ]
    },
    {
      "cell_type": "markdown",
      "source": [
        "####Automatyczne testy poprawności\n",
        "Przetestowano dla macierzy **z dokładnie znanymi wartościami własnymi**."
      ],
      "metadata": {
        "id": "Vzr8g0MDX4vW"
      }
    },
    {
      "cell_type": "code",
      "source": [
        "def test_qr_algorithm():\n",
        "    test_cases = [\n",
        "        (np.array([[2, 1], [1, 2]], dtype=float), [3, 1]),  # Znane wartości własne: 3, 1\n",
        "        (np.array([[4, -2, 1], [-2, 4, -2], [1, -2, 3]], dtype=float), [7.11902668,2.56837289,1.31260044])\n",
        "    ]\n",
        "\n",
        "    for i, (A, expected) in enumerate(test_cases):\n",
        "        computed = np.sort(qr_algorithm_eigenvalues(A))\n",
        "        expected = np.sort(expected)\n",
        "        assert np.allclose(computed, expected, atol=1e-3), f\"Błąd w teście {i+1}: {computed} ≠ {expected}\"\n",
        "\n",
        "    print(\"Wszystkie testy zaliczone!\")\n",
        "\n",
        "test_qr_algorithm()"
      ],
      "metadata": {
        "colab": {
          "base_uri": "https://localhost:8080/"
        },
        "id": "HTkmyi9zYIGV",
        "outputId": "0f64176c-e6dd-4dde-909d-0687696ed1f2"
      },
      "execution_count": 36,
      "outputs": [
        {
          "output_type": "stream",
          "name": "stdout",
          "text": [
            "Wszystkie testy zaliczone!\n"
          ]
        }
      ]
    },
    {
      "cell_type": "markdown",
      "source": [
        "Wszystkie testy są zaliczone, co oznacza, że algorytm zaimplementowano poprawnie😊"
      ],
      "metadata": {
        "id": "RJjZ4_s8ZSWl"
      }
    }
  ]
}